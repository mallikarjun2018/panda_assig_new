{
 "cells": [
  {
   "cell_type": "code",
   "execution_count": 1,
   "metadata": {},
   "outputs": [
    {
     "data": {
      "text/html": [
       "<div>\n",
       "<style scoped>\n",
       "    .dataframe tbody tr th:only-of-type {\n",
       "        vertical-align: middle;\n",
       "    }\n",
       "\n",
       "    .dataframe tbody tr th {\n",
       "        vertical-align: top;\n",
       "    }\n",
       "\n",
       "    .dataframe thead th {\n",
       "        text-align: right;\n",
       "    }\n",
       "</style>\n",
       "<table border=\"1\" class=\"dataframe\">\n",
       "  <thead>\n",
       "    <tr style=\"text-align: right;\">\n",
       "      <th></th>\n",
       "      <th>X</th>\n",
       "      <th>Y</th>\n",
       "    </tr>\n",
       "  </thead>\n",
       "  <tbody>\n",
       "    <tr>\n",
       "      <th>0</th>\n",
       "      <td>7</td>\n",
       "      <td>1</td>\n",
       "    </tr>\n",
       "    <tr>\n",
       "      <th>1</th>\n",
       "      <td>2</td>\n",
       "      <td>2</td>\n",
       "    </tr>\n",
       "    <tr>\n",
       "      <th>2</th>\n",
       "      <td>0</td>\n",
       "      <td>0</td>\n",
       "    </tr>\n",
       "    <tr>\n",
       "      <th>3</th>\n",
       "      <td>3</td>\n",
       "      <td>1</td>\n",
       "    </tr>\n",
       "    <tr>\n",
       "      <th>4</th>\n",
       "      <td>4</td>\n",
       "      <td>2</td>\n",
       "    </tr>\n",
       "    <tr>\n",
       "      <th>5</th>\n",
       "      <td>2</td>\n",
       "      <td>3</td>\n",
       "    </tr>\n",
       "    <tr>\n",
       "      <th>6</th>\n",
       "      <td>5</td>\n",
       "      <td>4</td>\n",
       "    </tr>\n",
       "    <tr>\n",
       "      <th>7</th>\n",
       "      <td>0</td>\n",
       "      <td>0</td>\n",
       "    </tr>\n",
       "    <tr>\n",
       "      <th>8</th>\n",
       "      <td>3</td>\n",
       "      <td>1</td>\n",
       "    </tr>\n",
       "    <tr>\n",
       "      <th>9</th>\n",
       "      <td>4</td>\n",
       "      <td>2</td>\n",
       "    </tr>\n",
       "  </tbody>\n",
       "</table>\n",
       "</div>"
      ],
      "text/plain": [
       "   X  Y\n",
       "0  7  1\n",
       "1  2  2\n",
       "2  0  0\n",
       "3  3  1\n",
       "4  4  2\n",
       "5  2  3\n",
       "6  5  4\n",
       "7  0  0\n",
       "8  3  1\n",
       "9  4  2"
      ]
     },
     "execution_count": 1,
     "metadata": {},
     "output_type": "execute_result"
    }
   ],
   "source": [
    "# How-to-count-distance-to-the-previous-zero For each value, count the difference back to the previous zero (or the start of the Series, \n",
    "# whichever is closer) create a new column 'Y' Consider a DataFrame df where there is an integer column 'X' \n",
    "\n",
    "#Import the Packages\n",
    "import pandas as pd\n",
    "import numpy as np\n",
    "\n",
    "#Create a Data frame with the given input.\n",
    "df = pd.DataFrame({'X': [7, 2, 0, 3, 4, 2, 5, 0, 3, 4]}) \n",
    "\n",
    "# Get the Indices where the Zero is present in the array.    \n",
    "zeroIndices = np.r_[-1, (df['X'] == 0).nonzero()[0]]  \n",
    "\n",
    "# Create a numpy array with the posiitions of the elements \n",
    "idx = np.arange(len(df))\n",
    "\n",
    "# Find the indices into a sorted array a such that, if the corresponding elements in v were inserted before the indices,\n",
    "# the order of a would be preserved.\n",
    "df['Y'] = idx - zeroIndices[np.searchsorted(zeroIndices - 1, idx) - 1]\n",
    "df"
   ]
  },
  {
   "cell_type": "code",
   "execution_count": 2,
   "metadata": {},
   "outputs": [
    {
     "name": "stdout",
     "output_type": "stream",
     "text": [
      "2015-01-01    0.704598\n",
      "2015-01-02    0.169735\n",
      "2015-01-05    0.514995\n",
      "2015-01-06    0.529405\n",
      "2015-01-07    0.155315\n",
      "2015-01-08    0.751440\n",
      "2015-01-09    0.700639\n",
      "2015-01-12    0.028153\n",
      "2015-01-13    0.107521\n",
      "2015-01-14    0.473097\n",
      "2015-01-15    0.894764\n",
      "2015-01-16    0.358610\n",
      "2015-01-19    0.095655\n",
      "2015-01-20    0.747409\n",
      "2015-01-21    0.830333\n",
      "2015-01-22    0.062678\n",
      "2015-01-23    0.078961\n",
      "2015-01-26    0.539766\n",
      "2015-01-27    0.574327\n",
      "2015-01-28    0.269104\n",
      "2015-01-29    0.320994\n",
      "2015-01-30    0.638530\n",
      "2015-02-02    0.662354\n",
      "2015-02-03    0.554911\n",
      "2015-02-04    0.124966\n",
      "2015-02-05    0.909819\n",
      "2015-02-06    0.085066\n",
      "2015-02-09    0.125923\n",
      "2015-02-10    0.016436\n",
      "2015-02-11    0.306714\n",
      "                ...   \n",
      "2015-11-20    0.955409\n",
      "2015-11-23    0.325676\n",
      "2015-11-24    0.867445\n",
      "2015-11-25    0.601388\n",
      "2015-11-26    0.053013\n",
      "2015-11-27    0.096795\n",
      "2015-11-30    0.555327\n",
      "2015-12-01    0.537380\n",
      "2015-12-02    0.333219\n",
      "2015-12-03    0.906173\n",
      "2015-12-04    0.419837\n",
      "2015-12-07    0.987709\n",
      "2015-12-08    0.106565\n",
      "2015-12-09    0.585921\n",
      "2015-12-10    0.217647\n",
      "2015-12-11    0.125848\n",
      "2015-12-14    0.020570\n",
      "2015-12-15    0.221781\n",
      "2015-12-16    0.455209\n",
      "2015-12-17    0.104512\n",
      "2015-12-18    0.824571\n",
      "2015-12-21    0.693048\n",
      "2015-12-22    0.918865\n",
      "2015-12-23    0.290316\n",
      "2015-12-24    0.075483\n",
      "2015-12-25    0.918178\n",
      "2015-12-28    0.516874\n",
      "2015-12-29    0.255058\n",
      "2015-12-30    0.270338\n",
      "2015-12-31    0.109821\n",
      "Freq: B, Length: 261, dtype: float64\n"
     ]
    }
   ],
   "source": [
    "#2) Create a DatetimeIndex that contains each business day of 2015 and use it to index a Series of random numbers. \n",
    "\n",
    "#Import the Packages\n",
    "import pandas as pd\n",
    "\n",
    "dti = pd.date_range(start='2015-01-01', end='2015-12-31', freq='B') \n",
    "s = pd.Series(np.random.rand(len(dti)), index = dti)\n",
    "print(s)"
   ]
  },
  {
   "cell_type": "code",
   "execution_count": 3,
   "metadata": {},
   "outputs": [
    {
     "name": "stdout",
     "output_type": "stream",
     "text": [
      "23.00505969771283\n"
     ]
    }
   ],
   "source": [
    "# 3. Find the sum of the values in s for every Wednesday.\n",
    "\n",
    "print(s[s.index.weekday == 2].sum())"
   ]
  },
  {
   "cell_type": "code",
   "execution_count": 4,
   "metadata": {},
   "outputs": [
    {
     "name": "stdout",
     "output_type": "stream",
     "text": [
      "2015-01-31    0.433910\n",
      "2015-02-28    0.347163\n",
      "2015-03-31    0.453417\n",
      "2015-04-30    0.444750\n",
      "2015-05-31    0.446499\n",
      "2015-06-30    0.334899\n",
      "2015-07-31    0.449121\n",
      "2015-08-31    0.569169\n",
      "2015-09-30    0.600537\n",
      "2015-10-31    0.414124\n",
      "2015-11-30    0.497832\n",
      "2015-12-31    0.430214\n",
      "Freq: M, dtype: float64\n"
     ]
    }
   ],
   "source": [
    "#4. Average For each calendar month \n",
    "\n",
    "print(s.resample('M').mean())"
   ]
  },
  {
   "cell_type": "code",
   "execution_count": 5,
   "metadata": {},
   "outputs": [
    {
     "name": "stdout",
     "output_type": "stream",
     "text": [
      "2015-01-31    0.894764\n",
      "2015-05-31    0.985910\n",
      "2015-09-30    0.983300\n",
      "2016-01-31    0.999030\n",
      "dtype: float64\n",
      "2015-04-30    0.985910\n",
      "2015-08-31    0.983300\n",
      "2015-12-31    0.999030\n",
      "2016-04-30    0.109821\n",
      "Freq: 4M, dtype: float64\n"
     ]
    }
   ],
   "source": [
    "#5. For each group of four consecutive calendar months in s, find the date on which the highest value occurred. \n",
    "\n",
    "print(s.groupby(pd.Grouper(freq='4M')).max())\n",
    "print(s.groupby(pd.Grouper(freq='4M', closed='left')).max())"
   ]
  },
  {
   "cell_type": "code",
   "execution_count": null,
   "metadata": {},
   "outputs": [],
   "source": []
  }
 ],
 "metadata": {
  "kernelspec": {
   "display_name": "Python 3",
   "language": "python",
   "name": "python3"
  },
  "language_info": {
   "codemirror_mode": {
    "name": "ipython",
    "version": 3
   },
   "file_extension": ".py",
   "mimetype": "text/x-python",
   "name": "python",
   "nbconvert_exporter": "python",
   "pygments_lexer": "ipython3",
   "version": "3.6.4"
  }
 },
 "nbformat": 4,
 "nbformat_minor": 2
}
